import pandas as pd

# Load the few-shot dataset
few_shot_dataset_path = "data/few-shot-dataset.csv"
few_shot_df = pd.read_csv(few_shot_dataset_path)

# Display the few-shot dataset
print(f"Few-shot Dataset Loaded. Total Records: {len(few_shot_df)}")
display(few_shot_df.head())

# Example of creating a few-shot prompt
def create_few_shot_prompt(dataframe):
    """
    Creates a few-shot prompt for training/testing the model.
    
    Parameters:
    - dataframe (pd.DataFrame): Few-shot dataset containing 'category' and 'text'.
    
    Returns:
    - str: A formatted few-shot prompt.
    """
    prompt = "Classify the following articles into one of these categories: Business, Entertainment, Politics, Sport, Tech.\n\n"
    for _, row in dataframe.iterrows():
        prompt += f"Category: {row['category']}\nArticle: {row['text'][:300]}...\n\n"
    return prompt

# Generate and display a few-shot prompt
few_shot_prompt = create_few_shot_prompt(few_shot_df)
print(few_shot_prompt[:1000])  # Display first 1000 characters of the prompt
