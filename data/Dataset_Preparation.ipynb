import os
import pandas as pd
dataset_path = "/kaggle/input/bbc-news-summary/BBC News Summary/News Articles/"
data = []
for category in os.listdir(dataset_path):
    category_path = os.path.join(dataset_path, category)
    if os.path.isdir(category_path): 
        for file_name in os.listdir(category_path):
            file_path = os.path.join(category_path, file_name)
            try:

                with open(file_path, 'r', encoding='utf-8') as file:
                    text = file.read().strip() 
            except UnicodeDecodeError:
                with open(file_path, 'r', encoding='latin-1') as file:
                    text = file.read().strip()  
            data.append({'category': category, 'text': text})
df = pd.DataFrame(data)
output_path = "news_dataset.csv"
df.to_csv(output_path, index=False)
print(f"Dataset saved as {output_path}")
df = pd.read_csv("/kaggle/working/news_dataset.csv")
df.tail(100)
